{
 "cells": [
  {
   "cell_type": "code",
   "execution_count": 1,
   "metadata": {
    "ExecuteTime": {
     "end_time": "2018-12-31T05:07:59.210645Z",
     "start_time": "2018-12-31T05:07:58.437451Z"
    }
   },
   "outputs": [],
   "source": [
    "from mltoolbox.basic import *\n",
    "from mltoolbox.plotting import save_spectrogram"
   ]
  },
  {
   "cell_type": "code",
   "execution_count": 2,
   "metadata": {
    "ExecuteTime": {
     "end_time": "2018-12-31T05:08:00.367829Z",
     "start_time": "2018-12-31T05:08:00.310807Z"
    }
   },
   "outputs": [],
   "source": [
    "import pyarrow.parquet as pq\n",
    "from pathlib import Path"
   ]
  },
  {
   "cell_type": "code",
   "execution_count": 3,
   "metadata": {
    "ExecuteTime": {
     "end_time": "2018-12-31T05:08:01.346745Z",
     "start_time": "2018-12-31T05:08:01.343370Z"
    }
   },
   "outputs": [],
   "source": [
    "PATH = Path('data/')"
   ]
  },
  {
   "cell_type": "code",
   "execution_count": 4,
   "metadata": {
    "ExecuteTime": {
     "end_time": "2018-12-31T05:08:02.197570Z",
     "start_time": "2018-12-31T05:08:02.194573Z"
    }
   },
   "outputs": [],
   "source": [
    "import os"
   ]
  },
  {
   "cell_type": "code",
   "execution_count": 6,
   "metadata": {
    "ExecuteTime": {
     "end_time": "2018-12-31T05:08:07.991086Z",
     "start_time": "2018-12-31T05:08:07.988546Z"
    },
    "deletable": false,
    "editable": false,
    "run_control": {
     "frozen": true
    }
   },
   "outputs": [],
   "source": [
    "os.mkdir('data/train_spectograms/')"
   ]
  },
  {
   "cell_type": "code",
   "execution_count": 7,
   "metadata": {
    "ExecuteTime": {
     "end_time": "2018-12-31T05:08:23.499372Z",
     "start_time": "2018-12-31T05:08:13.479972Z"
    }
   },
   "outputs": [],
   "source": [
    "train = pq.read_pandas(PATH/'train.parquet').to_pandas()"
   ]
  },
  {
   "cell_type": "code",
   "execution_count": 8,
   "metadata": {
    "ExecuteTime": {
     "end_time": "2018-12-31T05:08:27.309849Z",
     "start_time": "2018-12-31T05:08:27.294401Z"
    }
   },
   "outputs": [
    {
     "data": {
      "text/html": [
       "<div>\n",
       "<style scoped>\n",
       "    .dataframe tbody tr th:only-of-type {\n",
       "        vertical-align: middle;\n",
       "    }\n",
       "\n",
       "    .dataframe tbody tr th {\n",
       "        vertical-align: top;\n",
       "    }\n",
       "\n",
       "    .dataframe thead th {\n",
       "        text-align: right;\n",
       "    }\n",
       "</style>\n",
       "<table border=\"1\" class=\"dataframe\">\n",
       "  <thead>\n",
       "    <tr style=\"text-align: right;\">\n",
       "      <th></th>\n",
       "      <th>0</th>\n",
       "      <th>1</th>\n",
       "      <th>2</th>\n",
       "      <th>3</th>\n",
       "      <th>4</th>\n",
       "    </tr>\n",
       "  </thead>\n",
       "  <tbody>\n",
       "    <tr>\n",
       "      <th>0</th>\n",
       "      <td>18</td>\n",
       "      <td>1</td>\n",
       "      <td>-19</td>\n",
       "      <td>-16</td>\n",
       "      <td>-5</td>\n",
       "    </tr>\n",
       "    <tr>\n",
       "      <th>1</th>\n",
       "      <td>18</td>\n",
       "      <td>0</td>\n",
       "      <td>-19</td>\n",
       "      <td>-17</td>\n",
       "      <td>-6</td>\n",
       "    </tr>\n",
       "    <tr>\n",
       "      <th>2</th>\n",
       "      <td>17</td>\n",
       "      <td>-1</td>\n",
       "      <td>-20</td>\n",
       "      <td>-17</td>\n",
       "      <td>-6</td>\n",
       "    </tr>\n",
       "    <tr>\n",
       "      <th>3</th>\n",
       "      <td>18</td>\n",
       "      <td>1</td>\n",
       "      <td>-19</td>\n",
       "      <td>-16</td>\n",
       "      <td>-5</td>\n",
       "    </tr>\n",
       "    <tr>\n",
       "      <th>4</th>\n",
       "      <td>18</td>\n",
       "      <td>0</td>\n",
       "      <td>-19</td>\n",
       "      <td>-16</td>\n",
       "      <td>-5</td>\n",
       "    </tr>\n",
       "  </tbody>\n",
       "</table>\n",
       "</div>"
      ],
      "text/plain": [
       "    0  1   2   3  4\n",
       "0  18  1 -19 -16 -5\n",
       "1  18  0 -19 -17 -6\n",
       "2  17 -1 -20 -17 -6\n",
       "3  18  1 -19 -16 -5\n",
       "4  18  0 -19 -16 -5"
      ]
     },
     "execution_count": 8,
     "metadata": {},
     "output_type": "execute_result"
    }
   ],
   "source": [
    "train.iloc[:, :5].head()"
   ]
  },
  {
   "cell_type": "code",
   "execution_count": 9,
   "metadata": {
    "ExecuteTime": {
     "end_time": "2018-12-31T05:08:28.180840Z",
     "start_time": "2018-12-31T05:08:28.082762Z"
    }
   },
   "outputs": [],
   "source": [
    "from scipy import signal"
   ]
  },
  {
   "cell_type": "code",
   "execution_count": 10,
   "metadata": {
    "ExecuteTime": {
     "end_time": "2018-12-31T05:08:28.745395Z",
     "start_time": "2018-12-31T05:08:28.742384Z"
    }
   },
   "outputs": [],
   "source": [
    "SAMPLE_LENGTH = 800000\n",
    "SAMPLE_TIME = 20e-3     # in second\n",
    "SAMPLING_RATE = SAMPLE_LENGTH / SAMPLE_TIME"
   ]
  },
  {
   "cell_type": "code",
   "execution_count": 11,
   "metadata": {
    "ExecuteTime": {
     "end_time": "2018-12-31T05:08:29.372978Z",
     "start_time": "2018-12-31T05:08:29.368416Z"
    }
   },
   "outputs": [],
   "source": [
    "def make_spectograms(idx):\n",
    "    data = train.iloc[:, idx]\n",
    "    residual = data - data.ewm(alpha=0.01).mean()\n",
    "    f, t, Sxx = signal.spectrogram(x=residual, fs=SAMPLING_RATE,\n",
    "                                   window='hamming', nperseg=50000,\n",
    "                                   nfft=SAMPLE_LENGTH)\n",
    "    save_spectrogram(Sxx, fpath='data/train_spectograms/' + f'{idx}.jpg',\n",
    "                     log_col=True, log_freq=True)"
   ]
  },
  {
   "cell_type": "code",
   "execution_count": 14,
   "metadata": {
    "ExecuteTime": {
     "end_time": "2018-12-31T05:08:55.000027Z",
     "start_time": "2018-12-31T05:08:54.997008Z"
    }
   },
   "outputs": [],
   "source": [
    "import warnings\n",
    "warnings.simplefilter('ignore')"
   ]
  },
  {
   "cell_type": "code",
   "execution_count": 15,
   "metadata": {
    "ExecuteTime": {
     "end_time": "2018-12-31T05:09:03.744436Z",
     "start_time": "2018-12-31T05:08:56.073450Z"
    }
   },
   "outputs": [],
   "source": [
    "make_spectograms(0)"
   ]
  },
  {
   "cell_type": "markdown",
   "metadata": {},
   "source": [
    "Checking Image"
   ]
  },
  {
   "cell_type": "markdown",
   "metadata": {},
   "source": [
    "![Image](data/train_spectograms/9.jpg)"
   ]
  },
  {
   "cell_type": "code",
   "execution_count": 16,
   "metadata": {
    "ExecuteTime": {
     "end_time": "2018-12-31T05:12:04.198482Z",
     "start_time": "2018-12-31T05:11:42.006890Z"
    }
   },
   "outputs": [
    {
     "data": {
      "text/html": [
       "\n",
       "    <div>\n",
       "        <style>\n",
       "            /* Turns off some styling */\n",
       "            progress {\n",
       "                /* gets rid of default border in Firefox and Opera. */\n",
       "                border: none;\n",
       "                /* Needs to be in here for Safari polyfill so background images work as expected. */\n",
       "                background-size: auto;\n",
       "            }\n",
       "            .progress-bar-interrupted, .progress-bar-interrupted::-webkit-progress-bar {\n",
       "                background: #F44336;\n",
       "            }\n",
       "        </style>\n",
       "      <progress value='10' class='' max='10', style='width:300px; height:20px; vertical-align: middle;'></progress>\n",
       "      100.00% [10/10 00:21<00:00]\n",
       "    </div>\n",
       "    "
      ],
      "text/plain": [
       "<IPython.core.display.HTML object>"
      ]
     },
     "metadata": {},
     "output_type": "display_data"
    }
   ],
   "source": [
    "_ = parallel(make_spectograms, range(0, 10), n_jobs=7)"
   ]
  },
  {
   "cell_type": "code",
   "execution_count": 24,
   "metadata": {
    "ExecuteTime": {
     "end_time": "2018-12-31T05:18:44.630761Z",
     "start_time": "2018-12-31T05:18:44.121123Z"
    }
   },
   "outputs": [
    {
     "name": "stdout",
     "output_type": "stream",
     "text": [
      "0.jpg\t 15.jpg  25.jpg  35.jpg  45.jpg  55.jpg  65.jpg  75.jpg  85.jpg  95.jpg\r\n",
      "100.jpg  16.jpg  26.jpg  36.jpg  46.jpg  56.jpg  66.jpg  76.jpg  86.jpg  96.jpg\r\n",
      "101.jpg  17.jpg  27.jpg  37.jpg  47.jpg  57.jpg  67.jpg  77.jpg  87.jpg  97.jpg\r\n",
      "102.jpg  18.jpg  28.jpg  38.jpg  48.jpg  58.jpg  68.jpg  78.jpg  88.jpg  98.jpg\r\n",
      "103.jpg  19.jpg  29.jpg  39.jpg  49.jpg  59.jpg  69.jpg  79.jpg  89.jpg  99.jpg\r\n",
      "104.jpg  1.jpg\t 2.jpg\t 3.jpg\t 4.jpg\t 5.jpg\t 6.jpg\t 7.jpg\t 8.jpg\t 9.jpg\r\n",
      "10.jpg\t 20.jpg  30.jpg  40.jpg  50.jpg  60.jpg  70.jpg  80.jpg  90.jpg\r\n",
      "11.jpg\t 21.jpg  31.jpg  41.jpg  51.jpg  61.jpg  71.jpg  81.jpg  91.jpg\r\n",
      "12.jpg\t 22.jpg  32.jpg  42.jpg  52.jpg  62.jpg  72.jpg  82.jpg  92.jpg\r\n",
      "13.jpg\t 23.jpg  33.jpg  43.jpg  53.jpg  63.jpg  73.jpg  83.jpg  93.jpg\r\n",
      "14.jpg\t 24.jpg  34.jpg  44.jpg  54.jpg  64.jpg  74.jpg  84.jpg  94.jpg\r\n"
     ]
    }
   ],
   "source": [
    "!ls data/train_spectograms/"
   ]
  },
  {
   "cell_type": "code",
   "execution_count": 25,
   "metadata": {
    "ExecuteTime": {
     "end_time": "2018-12-31T05:21:28.708385Z",
     "start_time": "2018-12-31T05:21:28.691181Z"
    }
   },
   "outputs": [],
   "source": [
    "job_list = [int(i) for i in train.columns.values][104:]"
   ]
  },
  {
   "cell_type": "code",
   "execution_count": 26,
   "metadata": {
    "ExecuteTime": {
     "end_time": "2018-12-31T09:58:09.192428Z",
     "start_time": "2018-12-31T05:21:33.114473Z"
    }
   },
   "outputs": [
    {
     "data": {
      "text/html": [
       "\n",
       "    <div>\n",
       "        <style>\n",
       "            /* Turns off some styling */\n",
       "            progress {\n",
       "                /* gets rid of default border in Firefox and Opera. */\n",
       "                border: none;\n",
       "                /* Needs to be in here for Safari polyfill so background images work as expected. */\n",
       "                background-size: auto;\n",
       "            }\n",
       "            .progress-bar-interrupted, .progress-bar-interrupted::-webkit-progress-bar {\n",
       "                background: #F44336;\n",
       "            }\n",
       "        </style>\n",
       "      <progress value='8608' class='' max='8608', style='width:300px; height:20px; vertical-align: middle;'></progress>\n",
       "      100.00% [8608/8608 4:36:33<00:00]\n",
       "    </div>\n",
       "    "
      ],
      "text/plain": [
       "<IPython.core.display.HTML object>"
      ]
     },
     "metadata": {},
     "output_type": "display_data"
    }
   ],
   "source": [
    "_ = parallel(make_spectograms, job_list, n_jobs=6)"
   ]
  },
  {
   "cell_type": "code",
   "execution_count": null,
   "metadata": {},
   "outputs": [],
   "source": []
  }
 ],
 "metadata": {
  "kernelspec": {
   "display_name": "Python [default]",
   "language": "python",
   "name": "python3"
  },
  "language_info": {
   "codemirror_mode": {
    "name": "ipython",
    "version": 3
   },
   "file_extension": ".py",
   "mimetype": "text/x-python",
   "name": "python",
   "nbconvert_exporter": "python",
   "pygments_lexer": "ipython3",
   "version": "3.6.5"
  }
 },
 "nbformat": 4,
 "nbformat_minor": 2
}
