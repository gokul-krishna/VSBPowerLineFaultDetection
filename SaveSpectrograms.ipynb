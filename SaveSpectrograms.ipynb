{
 "cells": [
  {
   "cell_type": "code",
   "execution_count": 1,
   "metadata": {
    "ExecuteTime": {
     "end_time": "2019-01-03T21:02:14.251425Z",
     "start_time": "2019-01-03T21:02:09.126275Z"
    }
   },
   "outputs": [],
   "source": [
    "from mltoolbox.basic import *\n",
    "from mltoolbox.plotting import save_spectrogram"
   ]
  },
  {
   "cell_type": "code",
   "execution_count": 2,
   "metadata": {
    "ExecuteTime": {
     "end_time": "2019-01-03T21:02:16.856367Z",
     "start_time": "2019-01-03T21:02:15.076750Z"
    }
   },
   "outputs": [],
   "source": [
    "import pyarrow.parquet as pq\n",
    "from pathlib import Path"
   ]
  },
  {
   "cell_type": "code",
   "execution_count": 3,
   "metadata": {
    "ExecuteTime": {
     "end_time": "2019-01-03T21:02:17.917931Z",
     "start_time": "2019-01-03T21:02:17.914970Z"
    }
   },
   "outputs": [],
   "source": [
    "PATH = Path('data/')"
   ]
  },
  {
   "cell_type": "code",
   "execution_count": 4,
   "metadata": {
    "ExecuteTime": {
     "end_time": "2019-01-03T21:02:18.239534Z",
     "start_time": "2019-01-03T21:02:18.236873Z"
    }
   },
   "outputs": [],
   "source": [
    "import os"
   ]
  },
  {
   "cell_type": "code",
   "execution_count": 6,
   "metadata": {
    "ExecuteTime": {
     "end_time": "2018-12-31T05:08:07.991086Z",
     "start_time": "2018-12-31T05:08:07.988546Z"
    },
    "deletable": false,
    "editable": false,
    "run_control": {
     "frozen": true
    }
   },
   "outputs": [],
   "source": [
    "os.mkdir('data/train_spectograms/')"
   ]
  },
  {
   "cell_type": "code",
   "execution_count": 5,
   "metadata": {
    "ExecuteTime": {
     "end_time": "2019-01-03T21:02:53.425584Z",
     "start_time": "2019-01-03T21:02:21.469887Z"
    }
   },
   "outputs": [],
   "source": [
    "train = pq.read_pandas(PATH/'train.parquet').to_pandas()"
   ]
  },
  {
   "cell_type": "code",
   "execution_count": 6,
   "metadata": {
    "ExecuteTime": {
     "end_time": "2019-01-03T21:02:58.552046Z",
     "start_time": "2019-01-03T21:02:58.477318Z"
    }
   },
   "outputs": [
    {
     "data": {
      "text/html": [
       "<div>\n",
       "<style scoped>\n",
       "    .dataframe tbody tr th:only-of-type {\n",
       "        vertical-align: middle;\n",
       "    }\n",
       "\n",
       "    .dataframe tbody tr th {\n",
       "        vertical-align: top;\n",
       "    }\n",
       "\n",
       "    .dataframe thead th {\n",
       "        text-align: right;\n",
       "    }\n",
       "</style>\n",
       "<table border=\"1\" class=\"dataframe\">\n",
       "  <thead>\n",
       "    <tr style=\"text-align: right;\">\n",
       "      <th></th>\n",
       "      <th>0</th>\n",
       "      <th>1</th>\n",
       "      <th>2</th>\n",
       "      <th>3</th>\n",
       "      <th>4</th>\n",
       "    </tr>\n",
       "  </thead>\n",
       "  <tbody>\n",
       "    <tr>\n",
       "      <th>0</th>\n",
       "      <td>18</td>\n",
       "      <td>1</td>\n",
       "      <td>-19</td>\n",
       "      <td>-16</td>\n",
       "      <td>-5</td>\n",
       "    </tr>\n",
       "    <tr>\n",
       "      <th>1</th>\n",
       "      <td>18</td>\n",
       "      <td>0</td>\n",
       "      <td>-19</td>\n",
       "      <td>-17</td>\n",
       "      <td>-6</td>\n",
       "    </tr>\n",
       "    <tr>\n",
       "      <th>2</th>\n",
       "      <td>17</td>\n",
       "      <td>-1</td>\n",
       "      <td>-20</td>\n",
       "      <td>-17</td>\n",
       "      <td>-6</td>\n",
       "    </tr>\n",
       "    <tr>\n",
       "      <th>3</th>\n",
       "      <td>18</td>\n",
       "      <td>1</td>\n",
       "      <td>-19</td>\n",
       "      <td>-16</td>\n",
       "      <td>-5</td>\n",
       "    </tr>\n",
       "    <tr>\n",
       "      <th>4</th>\n",
       "      <td>18</td>\n",
       "      <td>0</td>\n",
       "      <td>-19</td>\n",
       "      <td>-16</td>\n",
       "      <td>-5</td>\n",
       "    </tr>\n",
       "  </tbody>\n",
       "</table>\n",
       "</div>"
      ],
      "text/plain": [
       "    0  1   2   3  4\n",
       "0  18  1 -19 -16 -5\n",
       "1  18  0 -19 -17 -6\n",
       "2  17 -1 -20 -17 -6\n",
       "3  18  1 -19 -16 -5\n",
       "4  18  0 -19 -16 -5"
      ]
     },
     "execution_count": 6,
     "metadata": {},
     "output_type": "execute_result"
    }
   ],
   "source": [
    "train.iloc[:, :5].head()"
   ]
  },
  {
   "cell_type": "code",
   "execution_count": 7,
   "metadata": {
    "ExecuteTime": {
     "end_time": "2019-01-03T21:03:02.957556Z",
     "start_time": "2019-01-03T21:03:01.280863Z"
    }
   },
   "outputs": [],
   "source": [
    "from scipy import signal"
   ]
  },
  {
   "cell_type": "code",
   "execution_count": 10,
   "metadata": {
    "ExecuteTime": {
     "end_time": "2018-12-31T05:08:28.745395Z",
     "start_time": "2018-12-31T05:08:28.742384Z"
    }
   },
   "outputs": [],
   "source": [
    "SAMPLE_LENGTH = 800000\n",
    "SAMPLE_TIME = 20e-3     # in second\n",
    "SAMPLING_RATE = SAMPLE_LENGTH / SAMPLE_TIME"
   ]
  },
  {
   "cell_type": "markdown",
   "metadata": {},
   "source": [
    "# Spectograms"
   ]
  },
  {
   "cell_type": "code",
   "execution_count": 11,
   "metadata": {
    "ExecuteTime": {
     "end_time": "2018-12-31T05:08:29.372978Z",
     "start_time": "2018-12-31T05:08:29.368416Z"
    }
   },
   "outputs": [],
   "source": [
    "def make_spectograms(idx):\n",
    "    data = train.iloc[:, idx]\n",
    "    residual = data - data.ewm(alpha=0.01).mean()\n",
    "    f, t, Sxx = signal.spectrogram(x=residual, fs=SAMPLING_RATE,\n",
    "                                   window='hamming', nperseg=50000,\n",
    "                                   nfft=SAMPLE_LENGTH)\n",
    "    save_spectrogram(Sxx, fpath='data/train_spectograms/' + f'{idx}.jpg',\n",
    "                     log_col=True, log_freq=True)"
   ]
  },
  {
   "cell_type": "code",
   "execution_count": 14,
   "metadata": {
    "ExecuteTime": {
     "end_time": "2018-12-31T05:08:55.000027Z",
     "start_time": "2018-12-31T05:08:54.997008Z"
    }
   },
   "outputs": [],
   "source": [
    "import warnings\n",
    "warnings.simplefilter('ignore')"
   ]
  },
  {
   "cell_type": "code",
   "execution_count": 15,
   "metadata": {
    "ExecuteTime": {
     "end_time": "2018-12-31T05:09:03.744436Z",
     "start_time": "2018-12-31T05:08:56.073450Z"
    }
   },
   "outputs": [],
   "source": [
    "make_spectograms(0)"
   ]
  },
  {
   "cell_type": "markdown",
   "metadata": {},
   "source": [
    "Checking Image"
   ]
  },
  {
   "cell_type": "markdown",
   "metadata": {},
   "source": [
    "![Image](data/train_spectograms/9.jpg)"
   ]
  },
  {
   "cell_type": "code",
   "execution_count": 16,
   "metadata": {
    "ExecuteTime": {
     "end_time": "2018-12-31T05:12:04.198482Z",
     "start_time": "2018-12-31T05:11:42.006890Z"
    }
   },
   "outputs": [
    {
     "data": {
      "text/html": [
       "\n",
       "    <div>\n",
       "        <style>\n",
       "            /* Turns off some styling */\n",
       "            progress {\n",
       "                /* gets rid of default border in Firefox and Opera. */\n",
       "                border: none;\n",
       "                /* Needs to be in here for Safari polyfill so background images work as expected. */\n",
       "                background-size: auto;\n",
       "            }\n",
       "            .progress-bar-interrupted, .progress-bar-interrupted::-webkit-progress-bar {\n",
       "                background: #F44336;\n",
       "            }\n",
       "        </style>\n",
       "      <progress value='10' class='' max='10', style='width:300px; height:20px; vertical-align: middle;'></progress>\n",
       "      100.00% [10/10 00:21<00:00]\n",
       "    </div>\n",
       "    "
      ],
      "text/plain": [
       "<IPython.core.display.HTML object>"
      ]
     },
     "metadata": {},
     "output_type": "display_data"
    }
   ],
   "source": [
    "_ = parallel(make_spectograms, range(0, 10), n_jobs=7)"
   ]
  },
  {
   "cell_type": "code",
   "execution_count": 24,
   "metadata": {
    "ExecuteTime": {
     "end_time": "2018-12-31T05:18:44.630761Z",
     "start_time": "2018-12-31T05:18:44.121123Z"
    }
   },
   "outputs": [
    {
     "name": "stdout",
     "output_type": "stream",
     "text": [
      "0.jpg\t 15.jpg  25.jpg  35.jpg  45.jpg  55.jpg  65.jpg  75.jpg  85.jpg  95.jpg\r\n",
      "100.jpg  16.jpg  26.jpg  36.jpg  46.jpg  56.jpg  66.jpg  76.jpg  86.jpg  96.jpg\r\n",
      "101.jpg  17.jpg  27.jpg  37.jpg  47.jpg  57.jpg  67.jpg  77.jpg  87.jpg  97.jpg\r\n",
      "102.jpg  18.jpg  28.jpg  38.jpg  48.jpg  58.jpg  68.jpg  78.jpg  88.jpg  98.jpg\r\n",
      "103.jpg  19.jpg  29.jpg  39.jpg  49.jpg  59.jpg  69.jpg  79.jpg  89.jpg  99.jpg\r\n",
      "104.jpg  1.jpg\t 2.jpg\t 3.jpg\t 4.jpg\t 5.jpg\t 6.jpg\t 7.jpg\t 8.jpg\t 9.jpg\r\n",
      "10.jpg\t 20.jpg  30.jpg  40.jpg  50.jpg  60.jpg  70.jpg  80.jpg  90.jpg\r\n",
      "11.jpg\t 21.jpg  31.jpg  41.jpg  51.jpg  61.jpg  71.jpg  81.jpg  91.jpg\r\n",
      "12.jpg\t 22.jpg  32.jpg  42.jpg  52.jpg  62.jpg  72.jpg  82.jpg  92.jpg\r\n",
      "13.jpg\t 23.jpg  33.jpg  43.jpg  53.jpg  63.jpg  73.jpg  83.jpg  93.jpg\r\n",
      "14.jpg\t 24.jpg  34.jpg  44.jpg  54.jpg  64.jpg  74.jpg  84.jpg  94.jpg\r\n"
     ]
    }
   ],
   "source": [
    "!ls data/train_spectograms/"
   ]
  },
  {
   "cell_type": "code",
   "execution_count": 25,
   "metadata": {
    "ExecuteTime": {
     "end_time": "2018-12-31T05:21:28.708385Z",
     "start_time": "2018-12-31T05:21:28.691181Z"
    }
   },
   "outputs": [],
   "source": [
    "job_list = [int(i) for i in train.columns.values][104:]"
   ]
  },
  {
   "cell_type": "code",
   "execution_count": 26,
   "metadata": {
    "ExecuteTime": {
     "end_time": "2018-12-31T09:58:09.192428Z",
     "start_time": "2018-12-31T05:21:33.114473Z"
    }
   },
   "outputs": [
    {
     "data": {
      "text/html": [
       "\n",
       "    <div>\n",
       "        <style>\n",
       "            /* Turns off some styling */\n",
       "            progress {\n",
       "                /* gets rid of default border in Firefox and Opera. */\n",
       "                border: none;\n",
       "                /* Needs to be in here for Safari polyfill so background images work as expected. */\n",
       "                background-size: auto;\n",
       "            }\n",
       "            .progress-bar-interrupted, .progress-bar-interrupted::-webkit-progress-bar {\n",
       "                background: #F44336;\n",
       "            }\n",
       "        </style>\n",
       "      <progress value='8608' class='' max='8608', style='width:300px; height:20px; vertical-align: middle;'></progress>\n",
       "      100.00% [8608/8608 4:36:33<00:00]\n",
       "    </div>\n",
       "    "
      ],
      "text/plain": [
       "<IPython.core.display.HTML object>"
      ]
     },
     "metadata": {},
     "output_type": "display_data"
    }
   ],
   "source": [
    "_ = parallel(make_spectograms, job_list, n_jobs=6)"
   ]
  },
  {
   "cell_type": "markdown",
   "metadata": {},
   "source": [
    "# GADF"
   ]
  },
  {
   "cell_type": "code",
   "execution_count": 8,
   "metadata": {
    "ExecuteTime": {
     "end_time": "2019-01-03T21:03:17.848808Z",
     "start_time": "2019-01-03T21:03:13.728900Z"
    }
   },
   "outputs": [],
   "source": [
    "from mltoolbox.image import *"
   ]
  },
  {
   "cell_type": "code",
   "execution_count": 9,
   "metadata": {
    "ExecuteTime": {
     "end_time": "2019-01-03T21:03:19.860641Z",
     "start_time": "2019-01-03T21:03:19.857481Z"
    }
   },
   "outputs": [],
   "source": [
    "SAMPLE_LENGTH = 800000\n",
    "SAMPLE_TIME = 20e-3\n",
    "SAMPLING_RATE = SAMPLE_LENGTH / SAMPLE_TIME"
   ]
  },
  {
   "cell_type": "code",
   "execution_count": 10,
   "metadata": {
    "ExecuteTime": {
     "end_time": "2019-01-03T21:03:20.804013Z",
     "start_time": "2019-01-03T21:03:20.800972Z"
    }
   },
   "outputs": [],
   "source": [
    "from scipy import fftpack"
   ]
  },
  {
   "cell_type": "code",
   "execution_count": 118,
   "metadata": {
    "ExecuteTime": {
     "end_time": "2019-01-03T22:02:12.783123Z",
     "start_time": "2019-01-03T22:02:12.775708Z"
    }
   },
   "outputs": [],
   "source": [
    "def shift_phase2zero(data):\n",
    "    \"\"\"\n",
    "    smoothed_data = data.rolling(window=2001, center=True).mean().ewm(alpha=0.001\n",
    "                                                                      ).mean()\n",
    "                                                        # .bfill(limit=1000\n",
    "                                                        # ).ffill(limit=1000)\n",
    "    \"\"\"\n",
    "    sig_fft = fftpack.fft(data)\n",
    "    sig_freq = fftpack.fftfreq(SAMPLE_LENGTH, 1 / SAMPLING_RATE)\n",
    "    sig_fft[np.abs(sig_freq) > 400] = 0\n",
    "    smoothed_data = fftpack.ifft(sig_fft)\n",
    "\n",
    "    crossing_idx = np.where((smoothed_data[:-1] * smoothed_data[1:]) <= 0)\n",
    "\n",
    "    if len(crossing_idx[0]) > 2:\n",
    "        sig_fft = fftpack.fft(x.values)\n",
    "        sig_freq = fftpack.fftfreq(SAMPLE_LENGTH, 1 / SAMPLING_RATE)\n",
    "        sig_fft[np.abs(sig_freq) > 100] = 0\n",
    "        smoothed_data = fftpack.ifft(sig_fft)\n",
    "        crossing_idx = np.where((smoothed_data[:-1] * smoothed_data[1:]) <= 0)\n",
    "\n",
    "    idx = None\n",
    "    crossing_idx = [i for i in crossing_idx[0] if abs(i - SAMPLE_LENGTH) > 500]\n",
    "    crossing_idx = [i for i in crossing_idx if i > 500]\n",
    "\n",
    "    for z_idx in crossing_idx:\n",
    "        if (smoothed_data[z_idx - 500] < 0) and\\\n",
    "                (smoothed_data[z_idx + 500] > 0):\n",
    "            idx = z_idx\n",
    "        else:\n",
    "            pass\n",
    "\n",
    "    if idx is None:\n",
    "        return data\n",
    "    else:\n",
    "        return np.concatenate([data[idx:], data[:idx]])"
   ]
  },
  {
   "cell_type": "code",
   "execution_count": 12,
   "metadata": {
    "ExecuteTime": {
     "end_time": "2019-01-03T21:03:23.177375Z",
     "start_time": "2019-01-03T21:03:23.174775Z"
    }
   },
   "outputs": [],
   "source": [
    "plt.rcParams['figure.figsize'] = [15.0, 6.0]"
   ]
  },
  {
   "cell_type": "code",
   "execution_count": 13,
   "metadata": {
    "ExecuteTime": {
     "end_time": "2019-01-03T21:03:31.550163Z",
     "start_time": "2019-01-03T21:03:30.276550Z"
    }
   },
   "outputs": [
    {
     "name": "stderr",
     "output_type": "stream",
     "text": [
      "/opt/anaconda3/lib/python3.6/site-packages/numpy/core/numeric.py:492: ComplexWarning: Casting complex values to real discards the imaginary part\n",
      "  return array(a, dtype, copy=False, order=order)\n"
     ]
    },
    {
     "data": {
      "text/plain": [
       "[<matplotlib.lines.Line2D at 0x7ff949201ac8>]"
      ]
     },
     "execution_count": 13,
     "metadata": {},
     "output_type": "execute_result"
    },
    {
     "data": {
      "image/png": "[encoded data removed]",
      "text/plain": [
       "<Figure size 1080x432 with 1 Axes>"
      ]
     },
     "metadata": {
      "needs_background": "light"
     },
     "output_type": "display_data"
    }
   ],
   "source": [
    "x = train.iloc[:, np.random.randint(0, 27)]\n",
    "plt.plot(x)\n",
    "sig_fft = fftpack.fft(x.values)\n",
    "sig_freq = fftpack.fftfreq(SAMPLE_LENGTH, 1 / SAMPLING_RATE)\n",
    "sig_fft[np.abs(sig_freq) > 400] = 0\n",
    "smoothed_data = fftpack.ifft(sig_fft)\n",
    "plt.plot(smoothed_data)"
   ]
  },
  {
   "cell_type": "code",
   "execution_count": 14,
   "metadata": {
    "ExecuteTime": {
     "end_time": "2019-01-03T21:03:37.945916Z",
     "start_time": "2019-01-03T21:03:37.943063Z"
    }
   },
   "outputs": [],
   "source": [
    "from scipy import signal\n",
    "from scipy.signal import butter"
   ]
  },
  {
   "cell_type": "code",
   "execution_count": 15,
   "metadata": {
    "ExecuteTime": {
     "end_time": "2019-01-03T21:03:38.774979Z",
     "start_time": "2019-01-03T21:03:38.771453Z"
    }
   },
   "outputs": [],
   "source": [
    "def high_pass_filter(signals, low_freq=1000, sample_fs=SAMPLING_RATE):\n",
    "    sos = butter(10, low_freq, btype='hp', fs=sample_fs, output='sos')\n",
    "    filtered_sig = signal.sosfilt(sos, signals)\n",
    "    return filtered_sig"
   ]
  },
  {
   "cell_type": "code",
   "execution_count": 16,
   "metadata": {
    "ExecuteTime": {
     "end_time": "2019-01-03T21:03:39.927023Z",
     "start_time": "2019-01-03T21:03:39.272777Z"
    }
   },
   "outputs": [],
   "source": [
    "from pyts.image import GADF"
   ]
  },
  {
   "cell_type": "code",
   "execution_count": 17,
   "metadata": {
    "ExecuteTime": {
     "end_time": "2019-01-03T21:03:40.409521Z",
     "start_time": "2019-01-03T21:03:40.406797Z"
    }
   },
   "outputs": [],
   "source": [
    "gadf = GADF(image_size=512)"
   ]
  },
  {
   "cell_type": "code",
   "execution_count": 18,
   "metadata": {
    "ExecuteTime": {
     "end_time": "2019-01-03T21:03:45.080151Z",
     "start_time": "2019-01-03T21:03:45.076949Z"
    }
   },
   "outputs": [],
   "source": [
    "os.makedirs('data/gadf_grams')"
   ]
  },
  {
   "cell_type": "code",
   "execution_count": 19,
   "metadata": {
    "ExecuteTime": {
     "end_time": "2019-01-03T21:03:50.931497Z",
     "start_time": "2019-01-03T21:03:50.926320Z"
    }
   },
   "outputs": [],
   "source": [
    "cmap = plt.get_cmap('viridis')\n",
    "\n",
    "def make_gadf(sig_idx):\n",
    "    x = train.iloc[:, sig_idx]\n",
    "    x = shift_phase2zero(x)\n",
    "    x = high_pass_filter(x)\n",
    "    x = gadf.fit_transform(np.expand_dims(x, axis=0))\n",
    "    plt.ioff()\n",
    "    fig, ax = plt.subplots(1)\n",
    "    fig.set_size_inches(5.12, 5.12)\n",
    "    fig.subplots_adjust(left=0, right=1, bottom=0, top=1)\n",
    "    ax.axis('off')\n",
    "    plt.imshow(x[0], cmap=cmap, origin='lower')\n",
    "    plt.savefig(f'data/gadf_grams/{sig_idx}.jpg', dpi=100, frameon='false')\n",
    "    plt.close(fig)\n",
    "    return True"
   ]
  },
  {
   "cell_type": "code",
   "execution_count": 20,
   "metadata": {
    "ExecuteTime": {
     "end_time": "2019-01-03T21:03:53.043427Z",
     "start_time": "2019-01-03T21:03:52.789245Z"
    }
   },
   "outputs": [
    {
     "data": {
      "text/plain": [
       "True"
      ]
     },
     "execution_count": 20,
     "metadata": {},
     "output_type": "execute_result"
    }
   ],
   "source": [
    "make_gadf(1)"
   ]
  },
  {
   "cell_type": "code",
   "execution_count": 21,
   "metadata": {
    "ExecuteTime": {
     "end_time": "2019-01-03T21:04:40.691598Z",
     "start_time": "2019-01-03T21:04:40.687564Z"
    }
   },
   "outputs": [
    {
     "data": {
      "text/plain": [
       "(800000, 8712)"
      ]
     },
     "execution_count": 21,
     "metadata": {},
     "output_type": "execute_result"
    }
   ],
   "source": [
    "train.shape"
   ]
  },
  {
   "cell_type": "code",
   "execution_count": 34,
   "metadata": {
    "ExecuteTime": {
     "end_time": "2019-01-03T21:28:05.598661Z",
     "start_time": "2019-01-03T21:28:05.595955Z"
    }
   },
   "outputs": [],
   "source": [
    "_ = parallel(make_gadf, range(0, 8712), n_jobs=7)"
   ]
  },
  {
   "cell_type": "code",
   "execution_count": 120,
   "metadata": {
    "ExecuteTime": {
     "end_time": "2019-01-03T22:03:45.755226Z",
     "start_time": "2019-01-03T22:03:45.504545Z"
    }
   },
   "outputs": [],
   "source": [
    "done = !ls data/gadf_grams/"
   ]
  },
  {
   "cell_type": "code",
   "execution_count": 111,
   "metadata": {
    "ExecuteTime": {
     "end_time": "2019-01-03T22:01:37.101178Z",
     "start_time": "2019-01-03T22:01:37.093990Z"
    }
   },
   "outputs": [],
   "source": [
    "done = [int(f.split('.')[0]) for f in done]"
   ]
  },
  {
   "cell_type": "code",
   "execution_count": 112,
   "metadata": {
    "ExecuteTime": {
     "end_time": "2019-01-03T22:01:37.489816Z",
     "start_time": "2019-01-03T22:01:37.486310Z"
    }
   },
   "outputs": [],
   "source": [
    "done = set(done)"
   ]
  },
  {
   "cell_type": "code",
   "execution_count": 113,
   "metadata": {
    "ExecuteTime": {
     "end_time": "2019-01-03T22:01:37.886503Z",
     "start_time": "2019-01-03T22:01:37.883129Z"
    }
   },
   "outputs": [],
   "source": [
    "total = set(range(0, 8712))"
   ]
  },
  {
   "cell_type": "code",
   "execution_count": 114,
   "metadata": {
    "ExecuteTime": {
     "end_time": "2019-01-03T22:01:38.247926Z",
     "start_time": "2019-01-03T22:01:38.242680Z"
    }
   },
   "outputs": [
    {
     "data": {
      "text/plain": [
       "array([7426, 7427, 5643, 5644, 2572, 2573, 5645,  144,  145,  146, 6331,\n",
       "       6398, 5446, 1741, 1742, 6990, 6991, 2386, 2387,  348, 7906, 7907,\n",
       "       3300, 3564, 3565, 3566, 8691, 8692, 8693, 6396, 6397, 4606])"
      ]
     },
     "execution_count": 114,
     "metadata": {},
     "output_type": "execute_result"
    }
   ],
   "source": [
    "np.array(list(total - done))"
   ]
  },
  {
   "cell_type": "code",
   "execution_count": 119,
   "metadata": {
    "ExecuteTime": {
     "end_time": "2019-01-03T22:02:22.078636Z",
     "start_time": "2019-01-03T22:02:16.760970Z"
    }
   },
   "outputs": [
    {
     "data": {
      "text/html": [
       "\n",
       "    <div>\n",
       "        <style>\n",
       "            /* Turns off some styling */\n",
       "            progress {\n",
       "                /* gets rid of default border in Firefox and Opera. */\n",
       "                border: none;\n",
       "                /* Needs to be in here for Safari polyfill so background images work as expected. */\n",
       "                background-size: auto;\n",
       "            }\n",
       "            .progress-bar-interrupted, .progress-bar-interrupted::-webkit-progress-bar {\n",
       "                background: #F44336;\n",
       "            }\n",
       "        </style>\n",
       "      <progress value='32' class='' max='32', style='width:300px; height:20px; vertical-align: middle;'></progress>\n",
       "      100.00% [32/32 00:05<00:00]\n",
       "    </div>\n",
       "    "
      ],
      "text/plain": [
       "<IPython.core.display.HTML object>"
      ]
     },
     "metadata": {},
     "output_type": "display_data"
    }
   ],
   "source": [
    "_ = parallel(make_gadf, list(total - done), n_jobs=1)"
   ]
  },
  {
   "cell_type": "code",
   "execution_count": 98,
   "metadata": {
    "ExecuteTime": {
     "end_time": "2019-01-03T21:55:44.402655Z",
     "start_time": "2019-01-03T21:55:43.754065Z"
    }
   },
   "outputs": [
    {
     "data": {
      "text/plain": [
       "[<matplotlib.lines.Line2D at 0x7ff99d34cda0>]"
      ]
     },
     "execution_count": 98,
     "metadata": {},
     "output_type": "execute_result"
    },
    {
     "data": {
      "image/png": "[encoded data removed]",
      "text/plain": [
       "<Figure size 1080x432 with 1 Axes>"
      ]
     },
     "metadata": {
      "needs_background": "light"
     },
     "output_type": "display_data"
    }
   ],
   "source": [
    "plt.plot(train.iloc[:, 3300])\n",
    "plt.plot(shift_phase2zero(train.iloc[:, 3300]))"
   ]
  },
  {
   "cell_type": "code",
   "execution_count": 99,
   "metadata": {
    "ExecuteTime": {
     "end_time": "2019-01-03T21:56:01.111100Z",
     "start_time": "2019-01-03T21:55:58.490553Z"
    }
   },
   "outputs": [
    {
     "data": {
      "text/plain": [
       "[<matplotlib.lines.Line2D at 0x7ff99d19b630>]"
      ]
     },
     "execution_count": 99,
     "metadata": {},
     "output_type": "execute_result"
    },
    {
     "data": {
      "image/png": "[encoded data removed]",
      "text/plain": [
       "<Figure size 1080x432 with 1 Axes>"
      ]
     },
     "metadata": {
      "needs_background": "light"
     },
     "output_type": "display_data"
    }
   ],
   "source": [
    "plt.plot(train.iloc[:, 5644])\n",
    "plt.plot(shift_phase2zero(train.iloc[:, 5644]))"
   ]
  },
  {
   "cell_type": "code",
   "execution_count": 109,
   "metadata": {
    "ExecuteTime": {
     "end_time": "2019-01-03T22:01:03.601236Z",
     "start_time": "2019-01-03T22:01:02.924662Z"
    }
   },
   "outputs": [
    {
     "name": "stdout",
     "output_type": "stream",
     "text": [
      "(array([137830, 532926, 570250, 585263]),)\n",
      "(array([167777, 570315]),)\n",
      "[167777, 570315]\n",
      "167777\n"
     ]
    },
    {
     "data": {
      "text/plain": [
       "[<matplotlib.lines.Line2D at 0x7ff99cb98048>]"
      ]
     },
     "execution_count": 109,
     "metadata": {},
     "output_type": "execute_result"
    },
    {
     "data": {
      "image/png": "[encoded data removed]",
      "text/plain": [
       "<Figure size 1080x432 with 1 Axes>"
      ]
     },
     "metadata": {
      "needs_background": "light"
     },
     "output_type": "display_data"
    }
   ],
   "source": [
    "x = train.iloc[:, 7427]\n",
    "plt.plot(x)\n",
    "plt.plot(shift_phase2zero(x))"
   ]
  },
  {
   "cell_type": "code",
   "execution_count": 96,
   "metadata": {
    "ExecuteTime": {
     "end_time": "2019-01-03T21:54:58.520804Z",
     "start_time": "2019-01-03T21:54:56.860600Z"
    }
   },
   "outputs": [
    {
     "data": {
      "text/plain": [
       "[<matplotlib.lines.Line2D at 0x7ff94409d390>]"
      ]
     },
     "execution_count": 96,
     "metadata": {},
     "output_type": "execute_result"
    },
    {
     "data": {
      "image/png": "[encoded data removed]",
      "text/plain": [
       "<Figure size 1080x432 with 1 Axes>"
      ]
     },
     "metadata": {
      "needs_background": "light"
     },
     "output_type": "display_data"
    }
   ],
   "source": [
    "x = train.iloc[:, 6990]\n",
    "plt.plot(x)\n",
    "sig_fft = fftpack.fft(x.values)\n",
    "sig_freq = fftpack.fftfreq(SAMPLE_LENGTH, 1 / SAMPLING_RATE)\n",
    "sig_fft[np.abs(sig_freq) > 100] = 0\n",
    "smoothed_data = fftpack.ifft(sig_fft)\n",
    "plt.plot(smoothed_data)"
   ]
  },
  {
   "cell_type": "code",
   "execution_count": 121,
   "metadata": {
    "ExecuteTime": {
     "end_time": "2019-01-03T22:03:50.223785Z",
     "start_time": "2019-01-03T22:03:50.219420Z"
    }
   },
   "outputs": [
    {
     "data": {
      "text/plain": [
       "8712"
      ]
     },
     "execution_count": 121,
     "metadata": {},
     "output_type": "execute_result"
    }
   ],
   "source": [
    "len(done)"
   ]
  },
  {
   "cell_type": "code",
   "execution_count": null,
   "metadata": {},
   "outputs": [],
   "source": []
  }
 ],
 "metadata": {
  "kernelspec": {
   "display_name": "Python [default]",
   "language": "python",
   "name": "python3"
  },
  "language_info": {
   "codemirror_mode": {
    "name": "ipython",
    "version": 3
   },
   "file_extension": ".py",
   "mimetype": "text/x-python",
   "name": "python",
   "nbconvert_exporter": "python",
   "pygments_lexer": "ipython3",
   "version": "3.6.5"
  },
  "toc": {
   "base_numbering": 1,
   "nav_menu": {},
   "number_sections": true,
   "sideBar": true,
   "skip_h1_title": false,
   "title_cell": "Table of Contents",
   "title_sidebar": "Contents",
   "toc_cell": false,
   "toc_position": {},
   "toc_section_display": true,
   "toc_window_display": false
  }
 },
 "nbformat": 4,
 "nbformat_minor": 2
}
