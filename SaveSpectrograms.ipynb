{
 "cells": [
  {
   "cell_type": "code",
   "execution_count": 1,
   "metadata": {
    "ExecuteTime": {
     "end_time": "2019-01-03T20:42:07.859708Z",
     "start_time": "2019-01-03T20:42:07.310145Z"
    }
   },
   "outputs": [],
   "source": [
    "from mltoolbox.basic import *\n",
    "from mltoolbox.plotting import save_spectrogram"
   ]
  },
  {
   "cell_type": "code",
   "execution_count": 2,
   "metadata": {
    "ExecuteTime": {
     "end_time": "2019-01-03T20:42:08.459185Z",
     "start_time": "2019-01-03T20:42:08.168104Z"
    }
   },
   "outputs": [],
   "source": [
    "import pyarrow.parquet as pq\n",
    "from pathlib import Path"
   ]
  },
  {
   "cell_type": "code",
   "execution_count": 3,
   "metadata": {
    "ExecuteTime": {
     "end_time": "2019-01-03T20:42:09.009838Z",
     "start_time": "2019-01-03T20:42:09.004915Z"
    }
   },
   "outputs": [],
   "source": [
    "PATH = Path('data/')"
   ]
  },
  {
   "cell_type": "code",
   "execution_count": 4,
   "metadata": {
    "ExecuteTime": {
     "end_time": "2019-01-03T20:42:09.460846Z",
     "start_time": "2019-01-03T20:42:09.458438Z"
    }
   },
   "outputs": [],
   "source": [
    "import os"
   ]
  },
  {
   "cell_type": "code",
   "execution_count": 6,
   "metadata": {
    "ExecuteTime": {
     "end_time": "2018-12-31T05:08:07.991086Z",
     "start_time": "2018-12-31T05:08:07.988546Z"
    },
    "deletable": false,
    "editable": false,
    "run_control": {
     "frozen": true
    }
   },
   "outputs": [],
   "source": [
    "os.mkdir('data/train_spectograms/')"
   ]
  },
  {
   "cell_type": "code",
   "execution_count": 8,
   "metadata": {
    "ExecuteTime": {
     "end_time": "2019-01-03T20:43:03.785283Z",
     "start_time": "2019-01-03T20:43:03.779079Z"
    }
   },
   "outputs": [],
   "source": [
    "train = pq.read_pandas(PATH/'train.parquet').to_pandas()"
   ]
  },
  {
   "cell_type": "code",
   "execution_count": 9,
   "metadata": {
    "ExecuteTime": {
     "end_time": "2019-01-03T20:43:12.505961Z",
     "start_time": "2019-01-03T20:43:12.500758Z"
    }
   },
   "outputs": [],
   "source": [
    "train.iloc[:, :5].head()"
   ]
  },
  {
   "cell_type": "code",
   "execution_count": 9,
   "metadata": {
    "ExecuteTime": {
     "end_time": "2018-12-31T05:08:28.180840Z",
     "start_time": "2018-12-31T05:08:28.082762Z"
    }
   },
   "outputs": [],
   "source": [
    "from scipy import signal"
   ]
  },
  {
   "cell_type": "code",
   "execution_count": 10,
   "metadata": {
    "ExecuteTime": {
     "end_time": "2018-12-31T05:08:28.745395Z",
     "start_time": "2018-12-31T05:08:28.742384Z"
    }
   },
   "outputs": [],
   "source": [
    "SAMPLE_LENGTH = 800000\n",
    "SAMPLE_TIME = 20e-3     # in second\n",
    "SAMPLING_RATE = SAMPLE_LENGTH / SAMPLE_TIME"
   ]
  },
  {
   "cell_type": "markdown",
   "metadata": {},
   "source": [
    "# Spectograms"
   ]
  },
  {
   "cell_type": "code",
   "execution_count": 11,
   "metadata": {
    "ExecuteTime": {
     "end_time": "2018-12-31T05:08:29.372978Z",
     "start_time": "2018-12-31T05:08:29.368416Z"
    }
   },
   "outputs": [],
   "source": [
    "def make_spectograms(idx):\n",
    "    data = train.iloc[:, idx]\n",
    "    residual = data - data.ewm(alpha=0.01).mean()\n",
    "    f, t, Sxx = signal.spectrogram(x=residual, fs=SAMPLING_RATE,\n",
    "                                   window='hamming', nperseg=50000,\n",
    "                                   nfft=SAMPLE_LENGTH)\n",
    "    save_spectrogram(Sxx, fpath='data/train_spectograms/' + f'{idx}.jpg',\n",
    "                     log_col=True, log_freq=True)"
   ]
  },
  {
   "cell_type": "code",
   "execution_count": 14,
   "metadata": {
    "ExecuteTime": {
     "end_time": "2018-12-31T05:08:55.000027Z",
     "start_time": "2018-12-31T05:08:54.997008Z"
    }
   },
   "outputs": [],
   "source": [
    "import warnings\n",
    "warnings.simplefilter('ignore')"
   ]
  },
  {
   "cell_type": "code",
   "execution_count": 15,
   "metadata": {
    "ExecuteTime": {
     "end_time": "2018-12-31T05:09:03.744436Z",
     "start_time": "2018-12-31T05:08:56.073450Z"
    }
   },
   "outputs": [],
   "source": [
    "make_spectograms(0)"
   ]
  },
  {
   "cell_type": "markdown",
   "metadata": {},
   "source": [
    "Checking Image"
   ]
  },
  {
   "cell_type": "markdown",
   "metadata": {},
   "source": [
    "![Image](data/train_spectograms/9.jpg)"
   ]
  },
  {
   "cell_type": "code",
   "execution_count": 16,
   "metadata": {
    "ExecuteTime": {
     "end_time": "2018-12-31T05:12:04.198482Z",
     "start_time": "2018-12-31T05:11:42.006890Z"
    }
   },
   "outputs": [
    {
     "data": {
      "text/html": [
       "\n",
       "    <div>\n",
       "        <style>\n",
       "            /* Turns off some styling */\n",
       "            progress {\n",
       "                /* gets rid of default border in Firefox and Opera. */\n",
       "                border: none;\n",
       "                /* Needs to be in here for Safari polyfill so background images work as expected. */\n",
       "                background-size: auto;\n",
       "            }\n",
       "            .progress-bar-interrupted, .progress-bar-interrupted::-webkit-progress-bar {\n",
       "                background: #F44336;\n",
       "            }\n",
       "        </style>\n",
       "      <progress value='10' class='' max='10', style='width:300px; height:20px; vertical-align: middle;'></progress>\n",
       "      100.00% [10/10 00:21<00:00]\n",
       "    </div>\n",
       "    "
      ],
      "text/plain": [
       "<IPython.core.display.HTML object>"
      ]
     },
     "metadata": {},
     "output_type": "display_data"
    }
   ],
   "source": [
    "_ = parallel(make_spectograms, range(0, 10), n_jobs=7)"
   ]
  },
  {
   "cell_type": "code",
   "execution_count": 24,
   "metadata": {
    "ExecuteTime": {
     "end_time": "2018-12-31T05:18:44.630761Z",
     "start_time": "2018-12-31T05:18:44.121123Z"
    }
   },
   "outputs": [
    {
     "name": "stdout",
     "output_type": "stream",
     "text": [
      "0.jpg\t 15.jpg  25.jpg  35.jpg  45.jpg  55.jpg  65.jpg  75.jpg  85.jpg  95.jpg\r\n",
      "100.jpg  16.jpg  26.jpg  36.jpg  46.jpg  56.jpg  66.jpg  76.jpg  86.jpg  96.jpg\r\n",
      "101.jpg  17.jpg  27.jpg  37.jpg  47.jpg  57.jpg  67.jpg  77.jpg  87.jpg  97.jpg\r\n",
      "102.jpg  18.jpg  28.jpg  38.jpg  48.jpg  58.jpg  68.jpg  78.jpg  88.jpg  98.jpg\r\n",
      "103.jpg  19.jpg  29.jpg  39.jpg  49.jpg  59.jpg  69.jpg  79.jpg  89.jpg  99.jpg\r\n",
      "104.jpg  1.jpg\t 2.jpg\t 3.jpg\t 4.jpg\t 5.jpg\t 6.jpg\t 7.jpg\t 8.jpg\t 9.jpg\r\n",
      "10.jpg\t 20.jpg  30.jpg  40.jpg  50.jpg  60.jpg  70.jpg  80.jpg  90.jpg\r\n",
      "11.jpg\t 21.jpg  31.jpg  41.jpg  51.jpg  61.jpg  71.jpg  81.jpg  91.jpg\r\n",
      "12.jpg\t 22.jpg  32.jpg  42.jpg  52.jpg  62.jpg  72.jpg  82.jpg  92.jpg\r\n",
      "13.jpg\t 23.jpg  33.jpg  43.jpg  53.jpg  63.jpg  73.jpg  83.jpg  93.jpg\r\n",
      "14.jpg\t 24.jpg  34.jpg  44.jpg  54.jpg  64.jpg  74.jpg  84.jpg  94.jpg\r\n"
     ]
    }
   ],
   "source": [
    "!ls data/train_spectograms/"
   ]
  },
  {
   "cell_type": "code",
   "execution_count": 25,
   "metadata": {
    "ExecuteTime": {
     "end_time": "2018-12-31T05:21:28.708385Z",
     "start_time": "2018-12-31T05:21:28.691181Z"
    }
   },
   "outputs": [],
   "source": [
    "job_list = [int(i) for i in train.columns.values][104:]"
   ]
  },
  {
   "cell_type": "code",
   "execution_count": 26,
   "metadata": {
    "ExecuteTime": {
     "end_time": "2018-12-31T09:58:09.192428Z",
     "start_time": "2018-12-31T05:21:33.114473Z"
    }
   },
   "outputs": [
    {
     "data": {
      "text/html": [
       "\n",
       "    <div>\n",
       "        <style>\n",
       "            /* Turns off some styling */\n",
       "            progress {\n",
       "                /* gets rid of default border in Firefox and Opera. */\n",
       "                border: none;\n",
       "                /* Needs to be in here for Safari polyfill so background images work as expected. */\n",
       "                background-size: auto;\n",
       "            }\n",
       "            .progress-bar-interrupted, .progress-bar-interrupted::-webkit-progress-bar {\n",
       "                background: #F44336;\n",
       "            }\n",
       "        </style>\n",
       "      <progress value='8608' class='' max='8608', style='width:300px; height:20px; vertical-align: middle;'></progress>\n",
       "      100.00% [8608/8608 4:36:33<00:00]\n",
       "    </div>\n",
       "    "
      ],
      "text/plain": [
       "<IPython.core.display.HTML object>"
      ]
     },
     "metadata": {},
     "output_type": "display_data"
    }
   ],
   "source": [
    "_ = parallel(make_spectograms, job_list, n_jobs=6)"
   ]
  },
  {
   "cell_type": "markdown",
   "metadata": {},
   "source": [
    "# GADF"
   ]
  },
  {
   "cell_type": "code",
   "execution_count": 10,
   "metadata": {
    "ExecuteTime": {
     "end_time": "2019-01-03T20:43:37.735935Z",
     "start_time": "2019-01-03T20:43:37.704125Z"
    }
   },
   "outputs": [],
   "source": [
    "train = pd.read_pickle('data/subset_train')"
   ]
  },
  {
   "cell_type": "code",
   "execution_count": 11,
   "metadata": {
    "ExecuteTime": {
     "end_time": "2019-01-03T20:43:54.621455Z",
     "start_time": "2019-01-03T20:43:54.245345Z"
    }
   },
   "outputs": [],
   "source": [
    "from mltoolbox.image import *"
   ]
  },
  {
   "cell_type": "code",
   "execution_count": 12,
   "metadata": {
    "ExecuteTime": {
     "end_time": "2019-01-03T20:44:00.367891Z",
     "start_time": "2019-01-03T20:44:00.360899Z"
    }
   },
   "outputs": [],
   "source": [
    "SAMPLE_LENGTH = 800000\n",
    "SAMPLE_TIME = 20e-3\n",
    "SAMPLING_RATE = SAMPLE_LENGTH / SAMPLE_TIME"
   ]
  },
  {
   "cell_type": "code",
   "execution_count": 13,
   "metadata": {
    "ExecuteTime": {
     "end_time": "2019-01-03T20:44:07.888548Z",
     "start_time": "2019-01-03T20:44:07.878847Z"
    }
   },
   "outputs": [],
   "source": [
    "from scipy import fftpack"
   ]
  },
  {
   "cell_type": "code",
   "execution_count": 14,
   "metadata": {
    "ExecuteTime": {
     "end_time": "2019-01-03T20:44:14.830964Z",
     "start_time": "2019-01-03T20:44:14.826756Z"
    }
   },
   "outputs": [],
   "source": [
    "def shift_phase2zero(data):\n",
    "    \"\"\"\n",
    "    smoothed_data = data.rolling(window=2001, center=True).mean().ewm(alpha=0.001\n",
    "                                                                      ).mean()\n",
    "                                                        # .bfill(limit=1000\n",
    "                                                        # ).ffill(limit=1000)\n",
    "    \"\"\"\n",
    "    sig_fft = fftpack.fft(data)\n",
    "    sig_freq = fftpack.fftfreq(SAMPLE_LENGTH, 1 / SAMPLING_RATE)\n",
    "    sig_fft[np.abs(sig_freq) > 400] = 0\n",
    "    smoothed_data = fftpack.ifft(sig_fft)\n",
    "\n",
    "    crossing_idx = np.where((smoothed_data[:-1] *\n",
    "                             smoothed_data[1:]) <= 0)\n",
    "    assert len(crossing_idx[0]) == 2\n",
    "    for z_idx in crossing_idx[0]:\n",
    "        if (smoothed_data[z_idx - 1000] < 0) and\\\n",
    "                (smoothed_data[z_idx + 1000] > 0):\n",
    "            idx = z_idx\n",
    "        else:\n",
    "            pass\n",
    "    return np.concatenate([data[idx:], data[:idx]])"
   ]
  },
  {
   "cell_type": "code",
   "execution_count": 22,
   "metadata": {
    "ExecuteTime": {
     "end_time": "2019-01-03T20:47:27.067663Z",
     "start_time": "2019-01-03T20:47:27.062928Z"
    }
   },
   "outputs": [],
   "source": [
    "plt.rcParams['figure.figsize'] = [15.0, 6.0]"
   ]
  },
  {
   "cell_type": "code",
   "execution_count": 30,
   "metadata": {
    "ExecuteTime": {
     "end_time": "2019-01-03T20:49:03.020221Z",
     "start_time": "2019-01-03T20:49:02.319991Z"
    }
   },
   "outputs": [
    {
     "name": "stderr",
     "output_type": "stream",
     "text": [
      "/home/gokul/anaconda3/lib/python3.6/site-packages/numpy/core/numeric.py:501: ComplexWarning: Casting complex values to real discards the imaginary part\n",
      "  return array(a, dtype, copy=False, order=order)\n"
     ]
    },
    {
     "data": {
      "text/plain": [
       "[<matplotlib.lines.Line2D at 0x7f243c3ac8d0>]"
      ]
     },
     "execution_count": 30,
     "metadata": {},
     "output_type": "execute_result"
    },
    {
     "data": {
      "image/png": "[encoded data removed]",
      "text/plain": [
       "<Figure size 1080x432 with 1 Axes>"
      ]
     },
     "metadata": {},
     "output_type": "display_data"
    }
   ],
   "source": [
    "x = train.iloc[:, np.random.randint(0, 27)]\n",
    "plt.plot(x)\n",
    "sig_fft = fftpack.fft(x.values)\n",
    "sig_freq = fftpack.fftfreq(SAMPLE_LENGTH, 1 / SAMPLING_RATE)\n",
    "sig_fft[np.abs(sig_freq) > 400] = 0\n",
    "smoothed_data = fftpack.ifft(sig_fft)\n",
    "plt.plot(smoothed_data)"
   ]
  },
  {
   "cell_type": "code",
   "execution_count": 28,
   "metadata": {
    "ExecuteTime": {
     "end_time": "2019-01-03T20:48:52.117248Z",
     "start_time": "2019-01-03T20:48:52.115023Z"
    }
   },
   "outputs": [],
   "source": [
    "from scipy import signal\n",
    "from scipy.signal import butter"
   ]
  },
  {
   "cell_type": "code",
   "execution_count": 16,
   "metadata": {
    "ExecuteTime": {
     "end_time": "2019-01-03T20:44:43.181523Z",
     "start_time": "2019-01-03T20:44:43.178283Z"
    }
   },
   "outputs": [],
   "source": [
    "def high_pass_filter(signals, low_freq=1000, sample_fs=SAMPLING_RATE):\n",
    "    sos = butter(10, low_freq, btype='hp', fs=sample_fs, output='sos')\n",
    "    filtered_sig = signal.sosfilt(sos, signals)\n",
    "    return filtered_sig"
   ]
  },
  {
   "cell_type": "code",
   "execution_count": 17,
   "metadata": {
    "ExecuteTime": {
     "end_time": "2019-01-03T20:44:49.770629Z",
     "start_time": "2019-01-03T20:44:49.653445Z"
    }
   },
   "outputs": [],
   "source": [
    "from pyts.image import GADF"
   ]
  },
  {
   "cell_type": "code",
   "execution_count": 18,
   "metadata": {
    "ExecuteTime": {
     "end_time": "2019-01-03T20:44:57.199315Z",
     "start_time": "2019-01-03T20:44:57.194708Z"
    }
   },
   "outputs": [],
   "source": [
    "gadf = GADF(image_size=512)"
   ]
  },
  {
   "cell_type": "code",
   "execution_count": 31,
   "metadata": {
    "ExecuteTime": {
     "end_time": "2019-01-03T20:50:31.709021Z",
     "start_time": "2019-01-03T20:50:31.701110Z"
    }
   },
   "outputs": [],
   "source": [
    "os.makedirs('data/gadf_grams')"
   ]
  },
  {
   "cell_type": "code",
   "execution_count": 43,
   "metadata": {
    "ExecuteTime": {
     "end_time": "2019-01-03T20:54:12.977710Z",
     "start_time": "2019-01-03T20:54:12.972097Z"
    }
   },
   "outputs": [],
   "source": [
    "cmap = plt.get_cmap('viridis')\n",
    "\n",
    "def make_gadf(sig_idx):\n",
    "    x = train.iloc[:, sig_idx]\n",
    "    x = shift_phase2zero(x)\n",
    "    x = high_pass_filter(x)\n",
    "    x = gadf.fit_transform(np.expand_dims(x, axis=0))\n",
    "    plt.ioff()\n",
    "    fig, ax = plt.subplots(1)\n",
    "    fig.set_size_inches(5.12, 5.12)\n",
    "    fig.subplots_adjust(left=0, right=1, bottom=0, top=1)\n",
    "    ax.axis('off')\n",
    "    plt.imshow(x[0], cmap=cmap, origin='lower')\n",
    "    plt.savefig(f'data/gadf_grams/{sig_idx}.jpg', dpi=100, frameon='false')\n",
    "    plt.close(fig)\n",
    "    return True"
   ]
  },
  {
   "cell_type": "code",
   "execution_count": 44,
   "metadata": {
    "ExecuteTime": {
     "end_time": "2019-01-03T20:54:13.531645Z",
     "start_time": "2019-01-03T20:54:13.387927Z"
    }
   },
   "outputs": [
    {
     "data": {
      "text/plain": [
       "True"
      ]
     },
     "execution_count": 44,
     "metadata": {},
     "output_type": "execute_result"
    }
   ],
   "source": [
    "make_gadf(1)"
   ]
  },
  {
   "cell_type": "code",
   "execution_count": null,
   "metadata": {},
   "outputs": [],
   "source": []
  }
 ],
 "metadata": {
  "kernelspec": {
   "display_name": "Python 3",
   "language": "python",
   "name": "python3"
  },
  "language_info": {
   "codemirror_mode": {
    "name": "ipython",
    "version": 3
   },
   "file_extension": ".py",
   "mimetype": "text/x-python",
   "name": "python",
   "nbconvert_exporter": "python",
   "pygments_lexer": "ipython3",
   "version": "3.6.6"
  },
  "toc": {
   "base_numbering": 1,
   "nav_menu": {},
   "number_sections": true,
   "sideBar": true,
   "skip_h1_title": false,
   "title_cell": "Table of Contents",
   "title_sidebar": "Contents",
   "toc_cell": false,
   "toc_position": {},
   "toc_section_display": true,
   "toc_window_display": false
  }
 },
 "nbformat": 4,
 "nbformat_minor": 2
}
