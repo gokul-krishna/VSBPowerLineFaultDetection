{
 "cells": [
  {
   "cell_type": "code",
   "execution_count": 1,
   "metadata": {
    "ExecuteTime": {
     "end_time": "2018-12-29T08:48:45.265354Z",
     "start_time": "2018-12-29T08:48:44.798143Z"
    }
   },
   "outputs": [],
   "source": [
    "from mltoolbox.basic import *"
   ]
  },
  {
   "cell_type": "code",
   "execution_count": 2,
   "metadata": {
    "ExecuteTime": {
     "end_time": "2018-12-29T08:48:45.317406Z",
     "start_time": "2018-12-29T08:48:45.267114Z"
    }
   },
   "outputs": [],
   "source": [
    "import pyarrow.parquet as pq\n",
    "from pathlib import Path"
   ]
  },
  {
   "cell_type": "code",
   "execution_count": 3,
   "metadata": {
    "ExecuteTime": {
     "end_time": "2018-12-29T08:48:45.322528Z",
     "start_time": "2018-12-29T08:48:45.320020Z"
    }
   },
   "outputs": [],
   "source": [
    "PATH = Path('data/')"
   ]
  },
  {
   "cell_type": "code",
   "execution_count": 4,
   "metadata": {
    "ExecuteTime": {
     "end_time": "2018-12-29T08:48:45.329970Z",
     "start_time": "2018-12-29T08:48:45.324964Z"
    }
   },
   "outputs": [
    {
     "data": {
      "text/plain": [
       "[PosixPath('data/metadata_train.csv'),\n",
       " PosixPath('data/train.parquet'),\n",
       " PosixPath('data/sample_submission.csv'),\n",
       " PosixPath('data/metadata_test.csv'),\n",
       " PosixPath('data/test.parquet')]"
      ]
     },
     "execution_count": 4,
     "metadata": {},
     "output_type": "execute_result"
    }
   ],
   "source": [
    "list(PATH.iterdir())"
   ]
  },
  {
   "cell_type": "code",
   "execution_count": 5,
   "metadata": {
    "ExecuteTime": {
     "end_time": "2018-12-29T08:48:54.808820Z",
     "start_time": "2018-12-29T08:48:45.331516Z"
    }
   },
   "outputs": [],
   "source": [
    "train = pq.read_pandas(PATH/'train.parquet').to_pandas()"
   ]
  },
  {
   "cell_type": "code",
   "execution_count": 6,
   "metadata": {
    "ExecuteTime": {
     "end_time": "2018-12-29T08:48:54.814245Z",
     "start_time": "2018-12-29T08:48:54.810705Z"
    }
   },
   "outputs": [
    {
     "data": {
      "text/plain": [
       "(800000, 8712)"
      ]
     },
     "execution_count": 6,
     "metadata": {},
     "output_type": "execute_result"
    }
   ],
   "source": [
    "train.shape"
   ]
  },
  {
   "cell_type": "code",
   "execution_count": 7,
   "metadata": {
    "ExecuteTime": {
     "end_time": "2018-12-29T08:48:55.104645Z",
     "start_time": "2018-12-29T08:48:54.815671Z"
    }
   },
   "outputs": [
    {
     "name": "stdout",
     "output_type": "stream",
     "text": [
      "<class 'pandas.core.frame.DataFrame'>\n",
      "RangeIndex: 800000 entries, 0 to 799999\n",
      "Columns: 8712 entries, 0 to 8711\n",
      "dtypes: int8(8712)\n",
      "memory usage: 6.5 GB\n"
     ]
    }
   ],
   "source": [
    "train.info()"
   ]
  },
  {
   "cell_type": "markdown",
   "metadata": {},
   "source": [
    "metadata_[train/test].csv\n",
    "\n",
    "`id_measurement:` the ID code for a trio of signals recorded at the same time.  \n",
    "`signal_id     :` the foreign key for the signal data. Each signal ID is unique across both train and test, so the first ID in train is '0' but the first ID in test is '8712'.  \n",
    "`phase         :` the phase ID code within the signal trio. **The phases may or may not all be impacted by a fault on the line.**  \n",
    "`target        :` 0 if the power line is undamaged, 1 if there is a fault."
   ]
  },
  {
   "cell_type": "code",
   "execution_count": 8,
   "metadata": {
    "ExecuteTime": {
     "end_time": "2018-12-29T08:48:55.362460Z",
     "start_time": "2018-12-29T08:48:55.106419Z"
    }
   },
   "outputs": [
    {
     "name": "stdout",
     "output_type": "stream",
     "text": [
      "signal_id,id_measurement,phase,target\r\n",
      "0,0,0,0\r\n",
      "1,0,1,0\r\n",
      "2,0,2,0\r\n",
      "3,1,0,1\r\n",
      "4,1,1,1\r\n",
      "5,1,2,1\r\n",
      "6,2,0,0\r\n",
      "7,2,1,0\r\n",
      "8,2,2,0\r\n"
     ]
    }
   ],
   "source": [
    "!head data/metadata_train.csv"
   ]
  },
  {
   "cell_type": "code",
   "execution_count": 9,
   "metadata": {
    "ExecuteTime": {
     "end_time": "2018-12-29T08:48:55.383454Z",
     "start_time": "2018-12-29T08:48:55.364442Z"
    }
   },
   "outputs": [],
   "source": [
    "train_meta = pd.read_csv(PATH/'metadata_train.csv')\n",
    "test_meta = pd.read_csv(PATH/'metadata_test.csv')"
   ]
  },
  {
   "cell_type": "code",
   "execution_count": 10,
   "metadata": {
    "ExecuteTime": {
     "end_time": "2018-12-29T08:48:55.395126Z",
     "start_time": "2018-12-29T08:48:55.385074Z"
    }
   },
   "outputs": [
    {
     "data": {
      "text/html": [
       "<div>\n",
       "<style scoped>\n",
       "    .dataframe tbody tr th:only-of-type {\n",
       "        vertical-align: middle;\n",
       "    }\n",
       "\n",
       "    .dataframe tbody tr th {\n",
       "        vertical-align: top;\n",
       "    }\n",
       "\n",
       "    .dataframe thead th {\n",
       "        text-align: right;\n",
       "    }\n",
       "</style>\n",
       "<table border=\"1\" class=\"dataframe\">\n",
       "  <thead>\n",
       "    <tr style=\"text-align: right;\">\n",
       "      <th></th>\n",
       "      <th>signal_id</th>\n",
       "      <th>id_measurement</th>\n",
       "      <th>phase</th>\n",
       "      <th>target</th>\n",
       "    </tr>\n",
       "  </thead>\n",
       "  <tbody>\n",
       "    <tr>\n",
       "      <th>0</th>\n",
       "      <td>0</td>\n",
       "      <td>0</td>\n",
       "      <td>0</td>\n",
       "      <td>0</td>\n",
       "    </tr>\n",
       "    <tr>\n",
       "      <th>1</th>\n",
       "      <td>1</td>\n",
       "      <td>0</td>\n",
       "      <td>1</td>\n",
       "      <td>0</td>\n",
       "    </tr>\n",
       "    <tr>\n",
       "      <th>2</th>\n",
       "      <td>2</td>\n",
       "      <td>0</td>\n",
       "      <td>2</td>\n",
       "      <td>0</td>\n",
       "    </tr>\n",
       "    <tr>\n",
       "      <th>3</th>\n",
       "      <td>3</td>\n",
       "      <td>1</td>\n",
       "      <td>0</td>\n",
       "      <td>1</td>\n",
       "    </tr>\n",
       "    <tr>\n",
       "      <th>4</th>\n",
       "      <td>4</td>\n",
       "      <td>1</td>\n",
       "      <td>1</td>\n",
       "      <td>1</td>\n",
       "    </tr>\n",
       "  </tbody>\n",
       "</table>\n",
       "</div>"
      ],
      "text/plain": [
       "   signal_id  id_measurement  phase  target\n",
       "0          0               0      0       0\n",
       "1          1               0      1       0\n",
       "2          2               0      2       0\n",
       "3          3               1      0       1\n",
       "4          4               1      1       1"
      ]
     },
     "execution_count": 10,
     "metadata": {},
     "output_type": "execute_result"
    }
   ],
   "source": [
    "train_meta.head()"
   ]
  },
  {
   "cell_type": "code",
   "execution_count": 11,
   "metadata": {
    "ExecuteTime": {
     "end_time": "2018-12-29T08:48:55.401849Z",
     "start_time": "2018-12-29T08:48:55.396707Z"
    }
   },
   "outputs": [
    {
     "data": {
      "text/plain": [
       "0    8187\n",
       "1     525\n",
       "Name: target, dtype: int64"
      ]
     },
     "execution_count": 11,
     "metadata": {},
     "output_type": "execute_result"
    }
   ],
   "source": [
    "train_meta.target.value_counts()"
   ]
  },
  {
   "cell_type": "code",
   "execution_count": 12,
   "metadata": {
    "ExecuteTime": {
     "end_time": "2018-12-29T08:48:55.410381Z",
     "start_time": "2018-12-29T08:48:55.403526Z"
    }
   },
   "outputs": [
    {
     "data": {
      "text/plain": [
       "target  phase\n",
       "0       0        2726\n",
       "        1        2738\n",
       "        2        2723\n",
       "1       0         178\n",
       "        1         166\n",
       "        2         181\n",
       "Name: signal_id, dtype: int64"
      ]
     },
     "execution_count": 12,
     "metadata": {},
     "output_type": "execute_result"
    }
   ],
   "source": [
    "train_meta.groupby(by=['target', 'phase'])['signal_id'].count()"
   ]
  },
  {
   "cell_type": "code",
   "execution_count": 13,
   "metadata": {
    "ExecuteTime": {
     "end_time": "2018-12-29T08:48:55.429635Z",
     "start_time": "2018-12-29T08:48:55.411637Z"
    }
   },
   "outputs": [
    {
     "data": {
      "text/html": [
       "<div>\n",
       "<style scoped>\n",
       "    .dataframe tbody tr th:only-of-type {\n",
       "        vertical-align: middle;\n",
       "    }\n",
       "\n",
       "    .dataframe tbody tr th {\n",
       "        vertical-align: top;\n",
       "    }\n",
       "\n",
       "    .dataframe thead th {\n",
       "        text-align: right;\n",
       "    }\n",
       "</style>\n",
       "<table border=\"1\" class=\"dataframe\">\n",
       "  <thead>\n",
       "    <tr style=\"text-align: right;\">\n",
       "      <th></th>\n",
       "      <th>phase</th>\n",
       "    </tr>\n",
       "    <tr>\n",
       "      <th>id_measurement</th>\n",
       "      <th></th>\n",
       "    </tr>\n",
       "  </thead>\n",
       "  <tbody>\n",
       "    <tr>\n",
       "      <th>67</th>\n",
       "      <td>2</td>\n",
       "    </tr>\n",
       "    <tr>\n",
       "      <th>96</th>\n",
       "      <td>1</td>\n",
       "    </tr>\n",
       "    <tr>\n",
       "      <th>126</th>\n",
       "      <td>1</td>\n",
       "    </tr>\n",
       "    <tr>\n",
       "      <th>159</th>\n",
       "      <td>1</td>\n",
       "    </tr>\n",
       "    <tr>\n",
       "      <th>271</th>\n",
       "      <td>1</td>\n",
       "    </tr>\n",
       "  </tbody>\n",
       "</table>\n",
       "</div>"
      ],
      "text/plain": [
       "                phase\n",
       "id_measurement       \n",
       "67                  2\n",
       "96                  1\n",
       "126                 1\n",
       "159                 1\n",
       "271                 1"
      ]
     },
     "execution_count": 13,
     "metadata": {},
     "output_type": "execute_result"
    }
   ],
   "source": [
    "train_meta[train_meta.target == 1].groupby(by=['id_measurement']\n",
    "                                          )[['phase']].count().query('phase < 3').head()"
   ]
  },
  {
   "cell_type": "code",
   "execution_count": 14,
   "metadata": {
    "ExecuteTime": {
     "end_time": "2018-12-29T08:48:55.438348Z",
     "start_time": "2018-12-29T08:48:55.430978Z"
    }
   },
   "outputs": [
    {
     "data": {
      "text/plain": [
       "3    156\n",
       "2     19\n",
       "1     19\n",
       "Name: phase, dtype: int64"
      ]
     },
     "execution_count": 14,
     "metadata": {},
     "output_type": "execute_result"
    }
   ],
   "source": [
    "train_meta[train_meta.target == 1].groupby(by=['id_measurement']\n",
    "                                          )[['phase']].count()['phase'].value_counts()"
   ]
  },
  {
   "cell_type": "code",
   "execution_count": 15,
   "metadata": {
    "ExecuteTime": {
     "end_time": "2018-12-29T08:48:55.447821Z",
     "start_time": "2018-12-29T08:48:55.439581Z"
    }
   },
   "outputs": [
    {
     "data": {
      "text/plain": [
       "Int64Index([  67,   96,  126,  159,  271,  301,  443,  518,  601,  608,  620,\n",
       "             706,  894,  944,  988, 1068, 1076, 1091, 1132, 1256, 1268, 1277,\n",
       "            1304, 1420, 1537, 1561, 1668, 1704, 1884, 1899, 1994, 2328, 2623,\n",
       "            2693, 2753, 2760, 2807, 2876],\n",
       "           dtype='int64', name='id_measurement')"
      ]
     },
     "execution_count": 15,
     "metadata": {},
     "output_type": "execute_result"
    }
   ],
   "source": [
    "x = train_meta[train_meta.target == 1].groupby(by=['id_measurement']\n",
    "                                               )[['phase']].count().query('phase < 3'\n",
    "                                                                          ).index\n",
    "x"
   ]
  },
  {
   "cell_type": "code",
   "execution_count": 16,
   "metadata": {
    "ExecuteTime": {
     "end_time": "2018-12-29T08:48:55.454981Z",
     "start_time": "2018-12-29T08:48:55.449430Z"
    }
   },
   "outputs": [
    {
     "data": {
      "text/plain": [
       "array([  67,   96,  126,  159,  271,  301,  443,  518,  601,  608,  620,\n",
       "        706,  894,  944,  988, 1068, 1076, 1091, 1132, 1256, 1268, 1277,\n",
       "       1304, 1420, 1537, 1561, 1668, 1704, 1884, 1899, 1994, 2328, 2623,\n",
       "       2693, 2753, 2760, 2807, 2876])"
      ]
     },
     "execution_count": 16,
     "metadata": {},
     "output_type": "execute_result"
    }
   ],
   "source": [
    "y = train_meta[train_meta.target == 0]['id_measurement'].unique()\n",
    "\n",
    "np.array([idx for idx in x if idx in y])"
   ]
  },
  {
   "cell_type": "code",
   "execution_count": 17,
   "metadata": {
    "ExecuteTime": {
     "end_time": "2018-12-29T08:48:55.462585Z",
     "start_time": "2018-12-29T08:48:55.457827Z"
    }
   },
   "outputs": [
    {
     "data": {
      "text/plain": [
       "0"
      ]
     },
     "execution_count": 17,
     "metadata": {},
     "output_type": "execute_result"
    }
   ],
   "source": [
    "sum(train_meta.groupby(by=['id_measurement'])['signal_id'].count() < 3)"
   ]
  },
  {
   "cell_type": "markdown",
   "metadata": {},
   "source": [
    "**Training contains phase wise fault data, ergo 1, 2 or 3 any number of phases can be faulty**"
   ]
  },
  {
   "cell_type": "code",
   "execution_count": 18,
   "metadata": {
    "ExecuteTime": {
     "end_time": "2018-12-29T08:48:55.469304Z",
     "start_time": "2018-12-29T08:48:55.464150Z"
    }
   },
   "outputs": [
    {
     "data": {
      "text/plain": [
       "0"
      ]
     },
     "execution_count": 18,
     "metadata": {},
     "output_type": "execute_result"
    }
   ],
   "source": [
    "sum(test_meta.groupby(by=['id_measurement'])['signal_id'].count() < 3)"
   ]
  },
  {
   "cell_type": "markdown",
   "metadata": {},
   "source": [
    "**!!! Good news - if a line is present in test all the 3 phases is present.**"
   ]
  },
  {
   "cell_type": "code",
   "execution_count": 19,
   "metadata": {
    "ExecuteTime": {
     "end_time": "2018-12-29T08:48:55.472863Z",
     "start_time": "2018-12-29T08:48:55.470595Z"
    }
   },
   "outputs": [],
   "source": [
    "import matplotlib.pyplot as plt"
   ]
  },
  {
   "cell_type": "code",
   "execution_count": 32,
   "metadata": {
    "ExecuteTime": {
     "end_time": "2018-12-29T08:56:23.229864Z",
     "start_time": "2018-12-29T08:56:23.226423Z"
    }
   },
   "outputs": [],
   "source": [
    "plt.rcParams['figure.figsize'] = [15.0, 6.0]\n",
    "plt.style.use('ggplot')"
   ]
  },
  {
   "cell_type": "code",
   "execution_count": 21,
   "metadata": {
    "ExecuteTime": {
     "end_time": "2018-12-29T08:48:55.486152Z",
     "start_time": "2018-12-29T08:48:55.479301Z"
    }
   },
   "outputs": [
    {
     "data": {
      "text/html": [
       "<div>\n",
       "<style scoped>\n",
       "    .dataframe tbody tr th:only-of-type {\n",
       "        vertical-align: middle;\n",
       "    }\n",
       "\n",
       "    .dataframe tbody tr th {\n",
       "        vertical-align: top;\n",
       "    }\n",
       "\n",
       "    .dataframe thead th {\n",
       "        text-align: right;\n",
       "    }\n",
       "</style>\n",
       "<table border=\"1\" class=\"dataframe\">\n",
       "  <thead>\n",
       "    <tr style=\"text-align: right;\">\n",
       "      <th></th>\n",
       "      <th>signal_id</th>\n",
       "      <th>id_measurement</th>\n",
       "      <th>phase</th>\n",
       "      <th>target</th>\n",
       "    </tr>\n",
       "  </thead>\n",
       "  <tbody>\n",
       "    <tr>\n",
       "      <th>288</th>\n",
       "      <td>288</td>\n",
       "      <td>96</td>\n",
       "      <td>0</td>\n",
       "      <td>0</td>\n",
       "    </tr>\n",
       "    <tr>\n",
       "      <th>289</th>\n",
       "      <td>289</td>\n",
       "      <td>96</td>\n",
       "      <td>1</td>\n",
       "      <td>0</td>\n",
       "    </tr>\n",
       "    <tr>\n",
       "      <th>290</th>\n",
       "      <td>290</td>\n",
       "      <td>96</td>\n",
       "      <td>2</td>\n",
       "      <td>1</td>\n",
       "    </tr>\n",
       "  </tbody>\n",
       "</table>\n",
       "</div>"
      ],
      "text/plain": [
       "     signal_id  id_measurement  phase  target\n",
       "288        288              96      0       0\n",
       "289        289              96      1       0\n",
       "290        290              96      2       1"
      ]
     },
     "execution_count": 21,
     "metadata": {},
     "output_type": "execute_result"
    }
   ],
   "source": [
    "train_meta[train_meta.id_measurement == 96]"
   ]
  },
  {
   "cell_type": "code",
   "execution_count": 22,
   "metadata": {
    "ExecuteTime": {
     "end_time": "2018-12-29T08:48:55.491380Z",
     "start_time": "2018-12-29T08:48:55.487435Z"
    }
   },
   "outputs": [],
   "source": [
    "good = train.iloc[:, 288].values\n",
    "bad = train.iloc[:, 290].values"
   ]
  },
  {
   "cell_type": "code",
   "execution_count": 33,
   "metadata": {
    "ExecuteTime": {
     "end_time": "2018-12-29T08:56:27.142606Z",
     "start_time": "2018-12-29T08:56:26.451961Z"
    }
   },
   "outputs": [
    {
     "data": {
      "text/plain": [
       "[<matplotlib.lines.Line2D at 0x7f0d2b3b3710>]"
      ]
     },
     "execution_count": 33,
     "metadata": {},
     "output_type": "execute_result"
    },
    {
     "data": {
      "image/png": "[encoded data removed]",
      "text/plain": [
       "<Figure size 1080x432 with 1 Axes>"
      ]
     },
     "metadata": {},
     "output_type": "display_data"
    }
   ],
   "source": [
    "plt.plot(good, c='g')\n",
    "plt.plot(bad, c='r')"
   ]
  },
  {
   "cell_type": "code",
   "execution_count": 34,
   "metadata": {
    "ExecuteTime": {
     "end_time": "2018-12-29T08:56:31.930704Z",
     "start_time": "2018-12-29T08:56:30.369226Z"
    }
   },
   "outputs": [
    {
     "data": {
      "text/plain": [
       "[<matplotlib.lines.Line2D at 0x7f0d2b3e54a8>]"
      ]
     },
     "execution_count": 34,
     "metadata": {},
     "output_type": "execute_result"
    },
    {
     "data": {
      "image/png": "[encoded data removed]",
      "text/plain": [
       "<Figure size 1080x432 with 1 Axes>"
      ]
     },
     "metadata": {},
     "output_type": "display_data"
    }
   ],
   "source": [
    "plt.plot(np.concatenate([good, good, good]), c='g')\n",
    "plt.plot(np.concatenate([bad, bad, bad]), c='r')"
   ]
  },
  {
   "cell_type": "markdown",
   "metadata": {},
   "source": [
    "## Metrics"
   ]
  },
  {
   "cell_type": "code",
   "execution_count": 1,
   "metadata": {
    "ExecuteTime": {
     "end_time": "2018-12-30T09:00:03.954898Z",
     "start_time": "2018-12-30T09:00:03.944964Z"
    }
   },
   "outputs": [],
   "source": [
    "from sklearn.metrics import matthews_corrcoef"
   ]
  },
  {
   "cell_type": "code",
   "execution_count": 6,
   "metadata": {
    "ExecuteTime": {
     "end_time": "2018-12-30T09:01:48.496384Z",
     "start_time": "2018-12-30T09:01:48.483943Z"
    }
   },
   "outputs": [
    {
     "data": {
      "text/plain": [
       "0.3333333333333333"
      ]
     },
     "execution_count": 6,
     "metadata": {},
     "output_type": "execute_result"
    }
   ],
   "source": [
    "y = [0, 1, 1, 0, 0, 1]\n",
    "y_bar = [1, 0, 1, 0, 0, 1]\n",
    "\n",
    "matthews_corrcoef(y_pred=y_bar, y_true=y)"
   ]
  },
  {
   "cell_type": "markdown",
   "metadata": {},
   "source": [
    "Ohhh very strict metric"
   ]
  },
  {
   "cell_type": "code",
   "execution_count": null,
   "metadata": {},
   "outputs": [],
   "source": []
  }
 ],
 "metadata": {
  "kernelspec": {
   "display_name": "Python [default]",
   "language": "python",
   "name": "python3"
  },
  "language_info": {
   "codemirror_mode": {
    "name": "ipython",
    "version": 3
   },
   "file_extension": ".py",
   "mimetype": "text/x-python",
   "name": "python",
   "nbconvert_exporter": "python",
   "pygments_lexer": "ipython3",
   "version": "3.6.5"
  },
  "toc": {
   "base_numbering": 1,
   "nav_menu": {},
   "number_sections": true,
   "sideBar": true,
   "skip_h1_title": false,
   "title_cell": "Table of Contents",
   "title_sidebar": "Contents",
   "toc_cell": false,
   "toc_position": {},
   "toc_section_display": true,
   "toc_window_display": false
  }
 },
 "nbformat": 4,
 "nbformat_minor": 2
}
